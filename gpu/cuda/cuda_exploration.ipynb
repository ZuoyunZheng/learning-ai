{
  "nbformat": 4,
  "nbformat_minor": 0,
  "metadata": {
    "colab": {
      "provenance": [],
      "machine_shape": "hm",
      "gpuType": "V100"
    },
    "kernelspec": {
      "name": "python3",
      "display_name": "Python 3"
    },
    "language_info": {
      "name": "python"
    },
    "accelerator": "GPU"
  },
  "cells": [
    {
      "cell_type": "code",
      "execution_count": 2,
      "metadata": {
        "colab": {
          "base_uri": "https://localhost:8080/"
        },
        "id": "BpKMtNwQcmdp",
        "outputId": "f734142a-2391-4e6b-ff02-eac2b26107e6"
      },
      "outputs": [
        {
          "output_type": "stream",
          "name": "stdout",
          "text": [
            "nvcc: NVIDIA (R) Cuda compiler driver\n",
            "Copyright (c) 2005-2022 NVIDIA Corporation\n",
            "Built on Wed_Sep_21_10:33:58_PDT_2022\n",
            "Cuda compilation tools, release 11.8, V11.8.89\n",
            "Build cuda_11.8.r11.8/compiler.31833905_0\n"
          ]
        }
      ],
      "source": [
        "!nvcc --version"
      ]
    },
    {
      "cell_type": "code",
      "source": [
        "!pip install git+https://github.com/andreinechaev/nvcc4jupyter.git"
      ],
      "metadata": {
        "colab": {
          "base_uri": "https://localhost:8080/"
        },
        "id": "Am-bUdWqjKp-",
        "outputId": "7d3be829-96a9-440f-9ab0-0e4785a8d4f6"
      },
      "execution_count": 4,
      "outputs": [
        {
          "output_type": "stream",
          "name": "stdout",
          "text": [
            "Collecting git+https://github.com/andreinechaev/nvcc4jupyter.git\n",
            "  Cloning https://github.com/andreinechaev/nvcc4jupyter.git to /tmp/pip-req-build-nj1p1pwz\n",
            "  Running command git clone --filter=blob:none --quiet https://github.com/andreinechaev/nvcc4jupyter.git /tmp/pip-req-build-nj1p1pwz\n",
            "  Resolved https://github.com/andreinechaev/nvcc4jupyter.git to commit 0a71d56e5dce3ff1f0dd2c47c29367629262f527\n",
            "  Preparing metadata (setup.py) ... \u001b[?25l\u001b[?25hdone\n",
            "Building wheels for collected packages: NVCCPlugin\n",
            "  Building wheel for NVCCPlugin (setup.py) ... \u001b[?25l\u001b[?25hdone\n",
            "  Created wheel for NVCCPlugin: filename=NVCCPlugin-0.0.2-py3-none-any.whl size=4295 sha256=06d7f648f5192efedc37ca9810c6a33de990f7f28b0d232c9930cfcf288324bb\n",
            "  Stored in directory: /tmp/pip-ephem-wheel-cache-r8bfawtx/wheels/a8/b9/18/23f8ef71ceb0f63297dd1903aedd067e6243a68ea756d6feea\n",
            "Successfully built NVCCPlugin\n",
            "Installing collected packages: NVCCPlugin\n",
            "Successfully installed NVCCPlugin-0.0.2\n"
          ]
        }
      ]
    },
    {
      "cell_type": "code",
      "source": [
        "%load_ext nvcc_plugin"
      ],
      "metadata": {
        "colab": {
          "base_uri": "https://localhost:8080/"
        },
        "id": "lu5VdfdljqQK",
        "outputId": "d9cc3097-32c4-4f5f-9817-c8131e10d6d6"
      },
      "execution_count": 5,
      "outputs": [
        {
          "output_type": "stream",
          "name": "stdout",
          "text": [
            "created output directory at /content/src\n",
            "Out bin /content/result.out\n"
          ]
        }
      ]
    },
    {
      "cell_type": "code",
      "source": [
        "%%cu\n",
        "#include <iostream>\n",
        "int main() {\n",
        "    std::cout << \"Compiling a C++ program in a Notbook\\n\";\n",
        "    return 0;\n",
        "}"
      ],
      "metadata": {
        "colab": {
          "base_uri": "https://localhost:8080/"
        },
        "id": "Qz_MbdNLj_nI",
        "outputId": "c06e3c29-edab-44ca-db27-7da9cc201891"
      },
      "execution_count": 6,
      "outputs": [
        {
          "output_type": "stream",
          "name": "stdout",
          "text": [
            "Compiling a C++ program in a Notbook\n",
            "\n"
          ]
        }
      ]
    },
    {
      "cell_type": "code",
      "source": [
        "%%cu\n",
        "#include <cstdio>\n",
        "#include <iostream>\n",
        "#include <cuda_runtime.h>\n",
        "\n",
        "__global__ void add_arrays(int *a, int *b, int *c, int size) {\n",
        "    int tid = blockIdx.x * blockDim.x + threadIdx.x;\n",
        "    if (tid < size) {\n",
        "        c[tid] = a[tid] + b[tid];\n",
        "    }\n",
        "}\n",
        "\n",
        "int main() {\n",
        "    //const int N = 1 << 20;  // Example: 1 million elements\n",
        "    const int N = 6;\n",
        "\n",
        "    // 1. Memory Allocation on the Host\n",
        "    int size = N * sizeof(int);\n",
        "    int *h_a = new int[N];\n",
        "    int *h_b = new int[N];\n",
        "    int *h_c = new int[N];\n",
        "\n",
        "    // 2. Initialize Data\n",
        "    for (int i = 0; i < N; i++) {\n",
        "        h_a[i] = i;\n",
        "        h_b[i] = 2 * i;\n",
        "    }\n",
        "\n",
        "    std::cout << \"array a:\" << std::endl;\n",
        "    for (int i = 0; i < N; i++) {\n",
        "        std::cout << h_a[i] << \",\";\n",
        "    }\n",
        "    std::cout << std::endl;\n",
        "    std::cout << \"array b:\" << std::endl;\n",
        "    for (int i = 0; i < N; i++) {\n",
        "        std::cout << h_b[i] << \",\";\n",
        "    }\n",
        "    std::cout << std::endl;\n",
        "\n",
        "    // 3. Memory Allocation on the GPU (Device)\n",
        "    int *d_a, *d_b, *d_c;\n",
        "    cudaMalloc((void**)&d_a, size);\n",
        "    cudaMalloc((void**)&d_b, size);\n",
        "    cudaMalloc((void**)&d_c, size);\n",
        "\n",
        "    // 4. Copy Data from Host to Device\n",
        "    cudaMemcpy(d_a, h_a, size, cudaMemcpyHostToDevice);\n",
        "    cudaMemcpy(d_b, h_b, size, cudaMemcpyHostToDevice);\n",
        "\n",
        "    // 5. Kernel Launch\n",
        "    int threadsPerBlock = 256;\n",
        "    int blocksPerGrid = (N + threadsPerBlock - 1) / threadsPerBlock;\n",
        "    add_arrays<<<blocksPerGrid, threadsPerBlock>>>(d_a, d_b, d_c, N);\n",
        "\n",
        "    // 6. Copy Data from Device to Host\n",
        "    cudaMemcpy(h_c, d_c, size, cudaMemcpyDeviceToHost);\n",
        "\n",
        "    // Verify results\n",
        "    std::cout << \"verifying....array addition...\" << std::endl;\n",
        "    for (int i = 0; i < N; i++) {\n",
        "        std::cout << h_c[i] << std::endl;\n",
        "        if (h_c[i] != h_a[i] + h_b[i]) {\n",
        "            std::cerr << \"Error: mismatch at position \" << i << \". Got: \" << h_c[i] << \", Expected: \" << h_a[i] + h_b[i] << std::endl;\n",
        "            break;\n",
        "        }\n",
        "    }\n",
        "    std::cout << \"Verification complete!\" << std::endl;\n",
        "\n",
        "    // 7. Cleanup\n",
        "    cudaFree(d_a);\n",
        "    cudaFree(d_b);\n",
        "    cudaFree(d_c);\n",
        "    delete[] h_a;\n",
        "    delete[] h_b;\n",
        "    delete[] h_c;\n",
        "\n",
        "    return 0;\n",
        "}\n",
        "\n"
      ],
      "metadata": {
        "colab": {
          "base_uri": "https://localhost:8080/"
        },
        "id": "y2Dqil6GlGPs",
        "outputId": "e3468cd1-fb54-43a1-efaa-5324a59738dd"
      },
      "execution_count": 13,
      "outputs": [
        {
          "output_type": "stream",
          "name": "stdout",
          "text": [
            "array a:\n",
            "0,1,2,3,4,5,\n",
            "array b:\n",
            "0,2,4,6,8,10,\n",
            "verifying....array addition...\n",
            "0\n",
            "3\n",
            "6\n",
            "9\n",
            "12\n",
            "15\n",
            "Verification complete!\n",
            "\n"
          ]
        }
      ]
    }
  ]
}